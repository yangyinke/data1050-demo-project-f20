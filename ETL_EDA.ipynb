{
 "cells": [
  {
   "cell_type": "markdown",
   "metadata": {},
   "source": [
    "# ETL_EDA\n",
    "This file records the process of acquiring raw data, traforming them, and loading them into a MongoDB. The data are store (almost) in their raw form."
   ]
  },
  {
   "cell_type": "code",
   "execution_count": 1,
   "metadata": {},
   "outputs": [],
   "source": [
    "import requests\n",
    "import pandas as pd\n",
    "from bs4 import BeautifulSoup\n",
    "from mongodb import *\n",
    "import json"
   ]
  },
  {
   "cell_type": "code",
   "execution_count": 2,
   "metadata": {},
   "outputs": [
    {
     "name": "stdout",
     "output_type": "stream",
     "text": [
      "create collection cases\n"
     ]
    },
    {
     "name": "stderr",
     "output_type": "stream",
     "text": [
      "<ipython-input-2-8e03347577e3>:51: DeprecationWarning: insert is deprecated. Use insert_one or insert_many instead.\n",
      "  handle.insert(records)\n"
     ]
    },
    {
     "name": "stdout",
     "output_type": "stream",
     "text": [
      "create collection states\n"
     ]
    }
   ],
   "source": [
    "# handle covid data in covid database with two collections named \"cases\" and \"states\"\n",
    "dbname = 'covid'\n",
    "\n",
    "date_str_to_num = {'Jan': '01', 'Feb': '02', 'Mar': '03', 'Apr': '04',\n",
    "                   'May': '05', 'Jun': '06', 'Jul': '07', 'Aug': '08',\n",
    "                   'Sep': '09', 'Oct': '10', 'Nov': '11', 'Dec': '12'}\n",
    "\n",
    "def get_cases_data(db=None):\n",
    "    url = \"https://covidtracking.com/data/national/cases\"\n",
    "    response = requests.get(url)\n",
    "    soup = BeautifulSoup(response.text, 'html.parser')\n",
    "    data = []\n",
    "    for tr in soup.body.div.div.main.find_all('tr')[1:]:\n",
    "        raw = tr.find_all('span')\n",
    "        date_str, case, new_case = raw[1].contents[0], raw[3].contents[0], raw[5].contents[0]\n",
    "        month_str, day, year = date_str.replace(\",\", \"\").split(\" \")\n",
    "        month = date_str_to_num[month_str]\n",
    "        date = \"{}-{}-{}\".format(year, month, day)\n",
    "        data.append([date, case, new_case])\n",
    "    df = pd.DataFrame(data=data, columns=['date','case','new_case'])\n",
    "    df['case'] = [int(df['case'][i].replace(',','')) for i in range(0,len(df))]\n",
    "    df['new_case'] = [int(df['new_case'][i].replace(',','')) for i in range(0,len(df))]\n",
    "    if db is not None:\n",
    "        col = create_collection(db, 'cases')\n",
    "        insert(df, col)\n",
    "    return df\n",
    "\n",
    "\n",
    "def get_states_data(db=None):\n",
    "    url = \"https://data.cdc.gov/resource/9mfq-cb36.json\"\n",
    "    response = requests.get(url)\n",
    "    res = json.loads(response.text)\n",
    "    df = pd.DataFrame(res)\n",
    "    dates = [df['submission_date'].loc[i].split('T')[0] for i in range(len(df['submission_date']))]\n",
    "    df['date'] = dates\n",
    "    if db is not None:\n",
    "        col = create_collection(db, 'states')\n",
    "        insert(df, col)\n",
    "    return df\n",
    "\n",
    "\n",
    "def create_collection(handle, collection_name):\n",
    "    collection = handle[collection_name]\n",
    "    collection.drop()\n",
    "    print('create collection {}'.format(collection_name))\n",
    "    return collection\n",
    "\n",
    "\n",
    "def insert(data, handle):\n",
    "    records = json.loads(data.T.to_json()).values()\n",
    "    handle.insert(records)\n",
    "\n",
    "\n",
    "\n",
    "db = connect(dbname)\n",
    "cases_data = get_cases_data(db)\n",
    "states_data = get_states_data(db)"
   ]
  },
  {
   "cell_type": "code",
   "execution_count": 3,
   "metadata": {},
   "outputs": [
    {
     "name": "stderr",
     "output_type": "stream",
     "text": [
      "<ipython-input-3-78e7b852e9cd>:24: FutureWarning: The pandas.datetime class is deprecated and will be removed from pandas in a future version. Import from datetime module instead.\n",
      "  date = [pd.datetime.fromtimestamp(timestamp).strftime('%Y-%m-%d') for timestamp in timestamps]\n"
     ]
    },
    {
     "name": "stdout",
     "output_type": "stream",
     "text": [
      "create collection historical\n"
     ]
    },
    {
     "name": "stderr",
     "output_type": "stream",
     "text": [
      "<ipython-input-3-78e7b852e9cd>:45: DeprecationWarning: insert is deprecated. Use insert_one or insert_many instead.\n",
      "  handle.insert(records)\n"
     ]
    }
   ],
   "source": [
    "# handle stock price data in stock database with only one collection named \"historical\"\n",
    "\n",
    "dbname = \"stock\"\n",
    "collection_name = \"historical\"\n",
    "\n",
    "url = 'https://query1.finance.yahoo.com/v8/finance/chart/{}'\n",
    "\n",
    "codes = ['AAPL', 'MSFT', 'GOOG', 'FB', 'AMZN', 'WMT', 'GE', 'MMM', 'AMT', 'JNJ', 'PFE', 'JPM', 'V', 'XOM',\n",
    "         '^GSPC', '^DJI', 'GC=F', 'CL=F']\n",
    "\n",
    "\n",
    "def get_stock_data():\n",
    "    all = pd.DataFrame()\n",
    "    for code in codes:\n",
    "        period = \"1y\"\n",
    "        interval = \"1d\"\n",
    "        params = {}\n",
    "        params[\"range\"] = period\n",
    "        params[\"interval\"] = interval.lower()\n",
    "        res = requests.get(url.format(code), params=params)\n",
    "        res_json = json.loads(res.text)\n",
    "        data = res_json['chart']['result'][0]\n",
    "        timestamps = data['timestamp']\n",
    "        date = [pd.datetime.fromtimestamp(timestamp).strftime('%Y-%m-%d') for timestamp in timestamps]\n",
    "        indicators_data = data['indicators']['quote'][0]\n",
    "        volume = indicators_data['volume']\n",
    "        close = indicators_data['close']\n",
    "        open = indicators_data['open']\n",
    "        high = indicators_data['high']\n",
    "        low = indicators_data['low']\n",
    "        df = pd.DataFrame({'date':date, 'volume':volume, 'close':close, 'open':open, 'high': high, 'low':low, 'code': [code for _ in volume]})\n",
    "        all = all.append(df, ignore_index=True)\n",
    "    return all\n",
    "\n",
    "\n",
    "def create_collection(handle):\n",
    "    collection = handle[collection_name]\n",
    "    collection.drop()\n",
    "    print('create collection {}'.format(collection_name))\n",
    "    return collection\n",
    "\n",
    "\n",
    "def insert(data, handle):\n",
    "    records = json.loads(data.T.to_json()).values()\n",
    "    handle.insert(records)\n",
    "\n",
    "\n",
    "\n",
    "data = get_stock_data()\n",
    "\n",
    "# only focus on stock data during pandemic\n",
    "data = data[data['date'] >= '2020-01-22']\n",
    "db = connect(dbname)\n",
    "col = create_collection(db)\n",
    "insert(data, col)"
   ]
  },
  {
   "cell_type": "code",
   "execution_count": null,
   "metadata": {},
   "outputs": [],
   "source": []
  }
 ],
 "metadata": {
  "kernelspec": {
   "display_name": "Python 3",
   "language": "python",
   "name": "python3"
  },
  "language_info": {
   "codemirror_mode": {
    "name": "ipython",
    "version": 3
   },
   "file_extension": ".py",
   "mimetype": "text/x-python",
   "name": "python",
   "nbconvert_exporter": "python",
   "pygments_lexer": "ipython3",
   "version": "3.8.6"
  }
 },
 "nbformat": 4,
 "nbformat_minor": 1
}
