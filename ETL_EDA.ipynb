{
 "cells": [
  {
   "cell_type": "markdown",
   "metadata": {},
   "source": [
    "# ETL_EDA\n",
    "This file records the process of acquiring raw data, traforming them, and loading them into a MongoDB. The data are store (almost) in their raw form."
   ]
  },
  {
   "cell_type": "markdown",
   "metadata": {},
   "source": [
    "## 1. Raw Data from BPA \n",
    "The [dataset](https://transmission.bpa.gov/business/operations/Wind/baltwg.txt) is a continuously updated txt file in csv format. It contains the energy producation and load in the last 5 days. There will be some blank lines at the end for today. It can be retrieved simply by making `requests` without parameters. For more complicated API call, you may need to add query parameters."
   ]
  },
  {
   "cell_type": "code",
   "execution_count": 9,
   "metadata": {},
   "outputs": [],
   "source": [
    "#import requests\n",
    "\n",
    "#url = \"https://transmission.bpa.gov/business/operations/Wind/baltwg.txt\"\n",
    "#req = requests.get(url, timeout=0.5)\n",
    "# req.raise_for_status()\n",
    "# text = req.text\n",
    "# print(text[:1000])\n",
    "# print('...')\n",
    "# print(text[-500:])"
   ]
  },
  {
   "cell_type": "code",
   "execution_count": 5,
   "metadata": {},
   "outputs": [],
   "source": [
    "# project\n",
    "import requests\n",
    "import pandas as pd\n",
    "from bs4 import BeautifulSoup\n",
    "#from mongodb import *\n",
    "#import json\n",
    "dbname = 'covid'\n",
    "collection_name = 'cases'"
   ]
  },
  {
   "cell_type": "code",
   "execution_count": 6,
   "metadata": {},
   "outputs": [],
   "source": [
    "# project\n",
    "url = \"https://covidtracking.com/data/national/cases\"\n",
    "response = requests.get(url)\n",
    "soup = BeautifulSoup(response.text, 'html.parser')\n",
    "data = []\n",
    "for tr in soup.body.div.div.main.find_all('tr')[1:]:\n",
    "    raw = tr.find_all('span')\n",
    "    data.append([raw[1].contents[0], raw[3].contents[0], raw[5].contents[0]])\n",
    "df = pd.DataFrame(data=data, columns=['Date','Case','new_case'])"
   ]
  },
  {
   "cell_type": "markdown",
   "metadata": {},
   "source": [
    "## 2. Raw Data to Documents/Dicts\n",
    "Using pandas, it is simple to parse a in-memory string. The first few lines of description need to be skipped. Datetime conversion is made and blank lines are dropped. Now the data can be easily converted to a list of dicts which is what we want for the MongoDB."
   ]
  },
  {
   "cell_type": "code",
   "execution_count": 3,
   "metadata": {},
   "outputs": [],
   "source": [
    "# import pandas\n",
    "# from io import StringIO\n",
    "\n",
    "# df = pandas.read_csv(StringIO(text), skiprows=11, delimiter='\\t')\n",
    "# df.columns = df.columns.str.strip()             # remove space in columns name\n",
    "# df['Datetime'] = pandas.to_datetime(df['Date/Time'])\n",
    "# df.drop(columns=['Date/Time'], axis=1, inplace=True)\n",
    "# df.dropna(inplace=True)  \n",
    "# df.head()"
   ]
  },
  {
   "cell_type": "code",
   "execution_count": 7,
   "metadata": {},
   "outputs": [
    {
     "data": {
      "text/html": [
       "<div>\n",
       "<style scoped>\n",
       "    .dataframe tbody tr th:only-of-type {\n",
       "        vertical-align: middle;\n",
       "    }\n",
       "\n",
       "    .dataframe tbody tr th {\n",
       "        vertical-align: top;\n",
       "    }\n",
       "\n",
       "    .dataframe thead th {\n",
       "        text-align: right;\n",
       "    }\n",
       "</style>\n",
       "<table border=\"1\" class=\"dataframe\">\n",
       "  <thead>\n",
       "    <tr style=\"text-align: right;\">\n",
       "      <th></th>\n",
       "      <th>Date</th>\n",
       "      <th>Case</th>\n",
       "      <th>new_case</th>\n",
       "    </tr>\n",
       "  </thead>\n",
       "  <tbody>\n",
       "    <tr>\n",
       "      <th>0</th>\n",
       "      <td>Nov 23, 2020</td>\n",
       "      <td>12,230,472</td>\n",
       "      <td>150,975</td>\n",
       "    </tr>\n",
       "    <tr>\n",
       "      <th>1</th>\n",
       "      <td>Nov 22, 2020</td>\n",
       "      <td>12,079,497</td>\n",
       "      <td>150,836</td>\n",
       "    </tr>\n",
       "    <tr>\n",
       "      <th>2</th>\n",
       "      <td>Nov 21, 2020</td>\n",
       "      <td>11,928,661</td>\n",
       "      <td>179,714</td>\n",
       "    </tr>\n",
       "    <tr>\n",
       "      <th>3</th>\n",
       "      <td>Nov 20, 2020</td>\n",
       "      <td>11,748,947</td>\n",
       "      <td>192,805</td>\n",
       "    </tr>\n",
       "    <tr>\n",
       "      <th>4</th>\n",
       "      <td>Nov 19, 2020</td>\n",
       "      <td>11,556,142</td>\n",
       "      <td>182,832</td>\n",
       "    </tr>\n",
       "  </tbody>\n",
       "</table>\n",
       "</div>"
      ],
      "text/plain": [
       "           Date        Case new_case\n",
       "0  Nov 23, 2020  12,230,472  150,975\n",
       "1  Nov 22, 2020  12,079,497  150,836\n",
       "2  Nov 21, 2020  11,928,661  179,714\n",
       "3  Nov 20, 2020  11,748,947  192,805\n",
       "4  Nov 19, 2020  11,556,142  182,832"
      ]
     },
     "execution_count": 7,
     "metadata": {},
     "output_type": "execute_result"
    }
   ],
   "source": [
    "# project\n",
    "import pandas as pd\n",
    "df.columns = df.columns.str.strip()             # remove space in columns name\n",
    "#df['Date'] = pd.to_datetime(str(df['Date']))\n",
    "#df.drop(columns=['Date/Time'], axis=1, inplace=True)\n",
    "df.dropna(inplace=True)  \n",
    "df.head()"
   ]
  },
  {
   "cell_type": "markdown",
   "metadata": {},
   "source": [
    "## 3. Upsert MongoDB\n",
    "If we fetch the data frequently, there are lots of duplicate data entry between each run. The de-duplication happens at insertion. The MongoDB API to use is `collection.replace_one(filter=..., replacement=..., upsert=True)`. The statement matches a document in MongoDB with `filter`, replaces it with `replacement` if the document exists or inserts `replacement` into the database if `filter` matches nothing. "
   ]
  },
  {
   "cell_type": "code",
   "execution_count": 8,
   "metadata": {},
   "outputs": [],
   "source": [
    "# import pymongo\n",
    "\n",
    "# client = pymongo.MongoClient()"
   ]
  },
  {
   "cell_type": "code",
   "execution_count": 9,
   "metadata": {},
   "outputs": [],
   "source": [
    "# db = client.get_database(\"energy\")\n",
    "# collection = db.get_collection(\"energy\")\n",
    "# update_count = 0\n",
    "# for record in df.to_dict('records'):\n",
    "#     result = collection.replace_one(\n",
    "#         filter={'Datetime': record['Datetime']},    # locate the document if exists\n",
    "#         replacement=record,                         # latest document\n",
    "#         upsert=True)                                # update if exists, insert if not\n",
    "#     if result.matched_count > 0:\n",
    "#         update_count += 1\n",
    "# print(f\"rows={df.shape[0]}, update={update_count}, \"\n",
    "#       f\"insert={df.shape[0]-update_count}\")"
   ]
  },
  {
   "cell_type": "code",
   "execution_count": 10,
   "metadata": {},
   "outputs": [
    {
     "name": "stdout",
     "output_type": "stream",
     "text": [
      "rows=307, update=0, insert=307\n"
     ]
    }
   ],
   "source": [
    "# project\n",
    "import pymongo\n",
    "\n",
    "client = pymongo.MongoClient()\n",
    "\n",
    "db = client.get_database(dbname)\n",
    "collection = db.get_collection(dbname)\n",
    "update_count = 0\n",
    "for record in df.to_dict('records'):\n",
    "    result = collection.replace_one(\n",
    "        filter={'Date': record['Date']},    # locate the document if exists\n",
    "        replacement=record,                         # latest document\n",
    "        upsert=True)                                # update if exists, insert if not\n",
    "    if result.matched_count > 0:\n",
    "        update_count += 1\n",
    "print(f\"rows={df.shape[0]}, update={update_count}, \"\n",
    "      f\"insert={df.shape[0]-update_count}\")"
   ]
  },
  {
   "cell_type": "code",
   "execution_count": null,
   "metadata": {},
   "outputs": [],
   "source": []
  }
 ],
 "metadata": {
  "kernelspec": {
   "display_name": "Python 3",
   "language": "python",
   "name": "python3"
  },
  "language_info": {
   "codemirror_mode": {
    "name": "ipython",
    "version": 3
   },
   "file_extension": ".py",
   "mimetype": "text/x-python",
   "name": "python",
   "nbconvert_exporter": "python",
   "pygments_lexer": "ipython3",
   "version": "3.8.6"
  }
 },
 "nbformat": 4,
 "nbformat_minor": 1
}
